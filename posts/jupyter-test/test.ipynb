{
 "cells": [
  {
   "cell_type": "markdown",
   "id": "cd81e1a0",
   "metadata": {},
   "source": [
    "---\n",
    "title: \"Jupyter Notebook is published!\"\n",
    "author: \"Christian Ropbinson\"\n",
    "date: \"2022-10-31\"\n",
    "---"
   ]
  },
  {
   "cell_type": "markdown",
   "id": "c12f7f3a",
   "metadata": {},
   "source": [
    "## This is a render\n",
    "\n",
    "Hello see my formula"
   ]
  },
  {
   "cell_type": "markdown",
   "id": "4c26a6d2",
   "metadata": {},
   "source": [
    "$$ f(x) = \\int^{0}x+y $$"
   ]
  }
 ],
 "metadata": {
  "kernelspec": {
   "display_name": "Python 3 (ipykernel)",
   "language": "python",
   "name": "python3"
  },
  "language_info": {
   "codemirror_mode": {
    "name": "ipython",
    "version": 3
   },
   "file_extension": ".py",
   "mimetype": "text/x-python",
   "name": "python",
   "nbconvert_exporter": "python",
   "pygments_lexer": "ipython3",
   "version": "3.10.6"
  }
 },
 "nbformat": 4,
 "nbformat_minor": 5
}

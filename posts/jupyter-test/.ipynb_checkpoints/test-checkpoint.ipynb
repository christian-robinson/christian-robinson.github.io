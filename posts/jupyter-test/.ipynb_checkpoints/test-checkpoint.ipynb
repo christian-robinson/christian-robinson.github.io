{
 "cells": [
  {
   "cell_type": "code",
   "execution_count": 2,
   "id": "032bff06",
   "metadata": {},
   "outputs": [],
   "source": [
    "import math"
   ]
  },
  {
   "cell_type": "markdown",
   "id": "4c26a6d2",
   "metadata": {},
   "source": [
    "$$ f(x) = \\int^{0}x+y $$"
   ]
  },
  {
   "cell_type": "code",
   "execution_count": null,
   "id": "c70c30cf",
   "metadata": {},
   "outputs": [],
   "source": []
  }
 ],
 "metadata": {
  "kernelspec": {
   "display_name": "Python 3 (ipykernel)",
   "language": "python",
   "name": "python3"
  },
  "language_info": {
   "codemirror_mode": {
    "name": "ipython",
    "version": 3
   },
   "file_extension": ".py",
   "mimetype": "text/x-python",
   "name": "python",
   "nbconvert_exporter": "python",
   "pygments_lexer": "ipython3",
   "version": "3.10.6"
  }
 },
 "nbformat": 4,
 "nbformat_minor": 5
}
